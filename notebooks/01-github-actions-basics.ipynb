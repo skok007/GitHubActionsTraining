{
 "cells": [
  {
   "cell_type": "markdown",
   "metadata": {},
   "source": [
    "# Exercise 01: GitHub Actions Basics\n",
    "\n",
    "In this notebook, we'll explore the fundamental concepts of GitHub Actions, including workflow files, triggers, and job configurations."
   ]
  },
  {
   "cell_type": "markdown",
   "metadata": {},
   "source": [
    "## Understanding GitHub Actions\n",
    "\n",
    "GitHub Actions is a continuous integration and automation tool that allows you to:\n",
    "\n",
    "- Automate your software development workflows\n",
    "- Build, test, and deploy your code\n",
    "- Run tasks in response to events\n",
    "- Create custom workflows using YAML syntax\n",
    "\n",
    "Key components of GitHub Actions:\n",
    "\n",
    "- **Workflows**: Automated processes defined in YAML files\n",
    "- **Events**: Triggers that start workflows\n",
    "- **Jobs**: Sets of steps that run on the same runner\n",
    "- **Steps**: Individual tasks that can run commands or actions\n",
    "- **Actions**: Reusable units of code"
   ]
  },
  {
   "cell_type": "markdown",
   "metadata": {},
   "source": [
    "## Workflow File Structure\n",
    "\n",
    "Let's examine a basic workflow file structure:"
   ]
  },
  {
   "cell_type": "code",
   "execution_count": null,
   "metadata": {},
   "outputs": [],
   "source": [
    "sample_workflow = \"\"\"\n",
    "name: Basic Workflow\n",
    "\n",
    "on:\n",
    "  push:\n",
    "    branches: [ main ]\n",
    "  pull_request:\n",
    "    branches: [ main ]\n",
    "\n",
    "jobs:\n",
    "  build:\n",
    "    runs-on: ubuntu-latest\n",
    "    steps:\n",
    "    - uses: actions/checkout@v3\n",
    "    \n",
    "    - name: Set up Python\n",
    "      uses: actions/setup-python@v4\n",
    "      with:\n",
    "        python-version: '3.x'\n",
    "    \n",
    "    - name: Install dependencies\n",
    "      run: |\n",
    "        python -m pip install --upgrade pip\n",
    "        pip install -r requirements.txt\n",
    "    \n",
    "    - name: Run tests\n",
    "      run: |\n",
    "        python -m pytest\n",
    "\"\"\"\n",
    "\n",
    "print(sample_workflow)"
   ]
  },
  {
   "cell_type": "markdown",
   "metadata": {},
   "source": [
    "## Understanding Triggers\n",
    "\n",
    "GitHub Actions workflows can be triggered by various events:"
   ]
  },
  {
   "cell_type": "code",
   "execution_count": null,
   "metadata": {},
   "outputs": [],
   "source": [
    "trigger_examples = \"\"\"\n",
    "# Push to a branch\n",
    "on:\n",
    "  push:\n",
    "    branches: [ main ]\n",
    "\n",
    "# Pull request events\n",
    "on:\n",
    "  pull_request:\n",
    "    types: [opened, synchronize, reopened]\n",
    "\n",
    "# Manual trigger\n",
    "on:\n",
    "  workflow_dispatch:\n",
    "\n",
    "# Schedule\n",
    "on:\n",
    "  schedule:\n",
    "    - cron: '0 0 * * *'  # Run daily at midnight\n",
    "\"\"\"\n",
    "\n",
    "print(trigger_examples)"
   ]
  },
  {
   "cell_type": "markdown",
   "metadata": {},
   "source": [
    "## Job Configuration\n",
    "\n",
    "Jobs are the building blocks of workflows. Let's explore job configuration options:"
   ]
  },
  {
   "cell_type": "code",
   "execution_count": null,
   "metadata": {},
   "outputs": [],
   "source": [
    "job_examples = \"\"\"\n",
    "jobs:\n",
    "  # Basic job\n",
    "  build:\n",
    "    runs-on: ubuntu-latest\n",
    "    steps:\n",
    "      - name: Hello World\n",
    "        run: echo \"Hello, World!\"\n",
    "\n",
    "  # Job with conditions\n",
    "  deploy:\n",
    "    needs: build\n",
    "    if: github.ref == 'refs/heads/main'\n",
    "    runs-on: ubuntu-latest\n",
    "    steps:\n",
    "      - name: Deploy\n",
    "        run: echo \"Deploying...\"\n",
    "\n",
    "  # Job with environment\n",
    "  test:\n",
    "    runs-on: ubuntu-latest\n",
    "    environment: production\n",
    "    steps:\n",
    "      - name: Run tests\n",
    "        run: echo \"Testing...\"\n",
    "\"\"\"\n",
    "\n",
    "print(job_examples)"
   ]
  },
  {
   "cell_type": "markdown",
   "metadata": {},
   "source": [
    "## Next Steps\n",
    "\n",
    "Now that you understand the basics of GitHub Actions, you can:\n",
    "\n",
    "1. Create your first workflow file\n",
    "2. Set up different triggers for your workflows\n",
    "3. Configure jobs with appropriate conditions\n",
    "4. Use actions from the GitHub Marketplace\n",
    "5. Monitor your workflow runs in the Actions tab"
   ]
  }
 ],
 "metadata": {
  "kernelspec": {
   "display_name": "Python 3",
   "language": "python",
   "name": "python3"
  },
  "language_info": {
   "codemirror_mode": {
    "name": "ipython",
    "version": 3
   },
   "file_extension": ".py",
   "mimetype": "text/x-python",
   "name": "python",
   "nbconvert_exporter": "python",
   "pygments_lexer": "ipython3",
   "version": "3.8.10"
  }
 },
 "nbformat": 4,
 "nbformat_minor": 4
}
