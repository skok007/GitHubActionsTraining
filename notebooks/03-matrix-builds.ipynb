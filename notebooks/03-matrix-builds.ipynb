{
 "cells": [
  {
   "cell_type": "markdown",
   "metadata": {},
   "source": [
    "# Exercise 03: Matrix Builds\n",
    "\n",
    "In this exercise, you'll learn how to use matrix builds in GitHub Actions to run your tests across multiple Python versions and operating systems. This is useful for ensuring your code works correctly in different environments."
   ]
  },
  {
   "cell_type": "markdown",
   "metadata": {},
   "source": [
    "## Objectives\n",
    "\n",
    "- Understand the concept of matrix builds\n",
    "- Create a workflow that runs tests on multiple Python versions\n",
    "- Test your code on different operating systems\n",
    "- Use matrix strategies to optimize your workflow\n",
    "- Handle matrix-specific environment variables"
   ]
  },
  {
   "cell_type": "markdown",
   "metadata": {},
   "source": [
    "## Understanding Matrix Builds\n",
    "\n",
    "Matrix builds allow you to run the same workflow with different configurations:\n",
    "\n",
    "1. **Matrix Strategy**\n",
    "   - Define multiple values for variables\n",
    "   - GitHub Actions creates a job for each combination\n",
    "   - Useful for testing across different environments\n",
    "\n",
    "2. **Matrix Variables**\n",
    "   - Can include Python versions, OS, Node versions, etc.\n",
    "   - Access variables using `${{ matrix.variable-name }}`\n",
    "   - Can be used in job configuration and steps\n",
    "\n",
    "3. **Matrix Optimization**\n",
    "   - Use `include` to add specific combinations\n",
    "   - Use `exclude` to skip unnecessary combinations\n",
    "   - Use `fail-fast` to control job cancellation"
   ]
  },
  {
   "cell_type": "markdown",
   "metadata": {},
   "source": [
    "## Example Matrix Workflow"
   ]
  },
  {
   "cell_type": "code",
   "execution_count": null,
   "metadata": {},
   "outputs": [],
   "source": [
    "matrix_workflow = \"\"\"\n",
    "name: Matrix Build\n",
    "\n",
    "on: [push]\n",
    "\n",
    "jobs:\n",
    "  test:\n",
    "    runs-on: ${{ matrix.os }}\n",
    "    strategy:\n",
    "      matrix:\n",
    "        os: [ubuntu-latest, windows-latest, macos-latest]\n",
    "        python-version: ['3.8', '3.9', '3.10']\n",
    "        exclude:\n",
    "          - os: windows-latest\n",
    "            python-version: '3.10'\n",
    "      fail-fast: false\n",
    "    \n",
    "    steps:\n",
    "      - uses: actions/checkout@v3\n",
    "      \n",
    "      - name: Set up Python ${{ matrix.python-version }}\n",
    "        uses: actions/setup-python@v4\n",
    "        with:\n",
    "          python-version: ${{ matrix.python-version }}\n",
    "          \n",
    "      - name: Install dependencies\n",
    "        run: |\n",
    "          python -m pip install --upgrade pip\n",
    "          pip install -r requirements.txt\n",
    "          \n",
    "      - name: Run tests\n",
    "        run: python -m pytest\n",
    "\"\"\"\n",
    "\n",
    "print(matrix_workflow)"
   ]
  },
  {
   "cell_type": "markdown",
   "metadata": {},
   "source": [
    "## Hands-on Exercise\n",
    "\n",
    "In this exercise, you'll create a Python package and set up a matrix build workflow. Follow these steps:\n",
    "\n",
    "1. **Create a Python Package**\n",
    "   - Create a simple Python package with tests\n",
    "   - Add compatibility checks for different Python versions\n",
    "   - Create a setup.py file for packaging\n",
    "\n",
    "2. **Set Up Matrix Build Workflow**\n",
    "   - Create a workflow file that uses matrix strategy\n",
    "   - Define Python versions and operating systems to test\n",
    "   - Configure environment variables for each matrix combination\n",
    "   - Add steps to run tests in each environment\n",
    "\n",
    "3. **Optimize Your Matrix Build**\n",
    "   - Use matrix exclusions to skip unnecessary combinations\n",
    "   - Implement matrix strategy to reduce the number of jobs\n",
    "   - Add conditional steps based on matrix parameters\n",
    "\n",
    "4. **Test Your Workflow**\n",
    "   - Commit and push your changes\n",
    "   - Check the Actions tab to see the matrix build in action\n",
    "   - Verify that tests run correctly in all environments\n",
    "\n",
    "## Expected Outcome\n",
    "\n",
    "After completing this exercise, you should have:\n",
    "- A Python package that can be tested across different environments\n",
    "- A GitHub Actions workflow that uses matrix builds\n",
    "- Understanding of how to optimize matrix builds\n",
    "- Experience with conditional steps based on matrix parameters\n",
    "\n",
    "## Next Steps\n",
    "\n",
    "Once you've completed this exercise, move on to Exercise 04 to learn about artifacts in GitHub Actions."
   ]
  }
 ],
 "metadata": {
  "kernelspec": {
   "display_name": "Python 3",
   "language": "python",
   "name": "python3"
  },
  "language_info": {
   "codemirror_mode": {
    "name": "ipython",
    "version": 3
   },
   "file_extension": ".py",
   "mimetype": "text/x-python",
   "name": "python",
   "nbconvert_exporter": "python",
   "pygments_lexer": "ipython3",
   "version": "3.8.10"
  }
 },
 "nbformat": 4,
 "nbformat_minor": 4
}