{
 "cells": [
  {
   "cell_type": "markdown",
   "metadata": {},
   "source": [
    "# Exercise 02: Environment Variables in GitHub Actions\n",
    "\n",
    "In this notebook, we'll explore how to use environment variables in GitHub Actions workflows."
   ]
  },
  {
   "cell_type": "markdown",
   "metadata": {},
   "source": [
    "## Prerequisites\n",
    "\n",
    "Before starting this exercise, ensure you have:\n",
    "\n",
    "1. **GitHub Account**\n",
    "   - A GitHub account with appropriate permissions\n",
    "   - A repository where you can create workflows\n",
    "   - Access to the repository's Settings and Actions tabs\n",
    "\n",
    "2. **Development Environment**\n",
    "   - Basic understanding of Git\n",
    "   - Text editor for editing YAML files\n",
    "   - Familiarity with command-line interfaces\n",
    "\n",
    "3. **Required Tools**\n",
    "   - Git installed and configured\n",
    "   - GitHub CLI (optional but recommended)\n",
    "   - Python 3.x (for the example project)"
   ]
  },
  {
   "cell_type": "markdown",
   "metadata": {},
   "source": [
    "## Understanding Environment Variables\n",
    "\n",
    "Environment variables in GitHub Actions can be defined at multiple levels:\n",
    "\n",
    "1. **Workflow Level**\n",
    "   - Defined at the top of the workflow\n",
    "   - Available to all jobs\n",
    "   - Can be overridden by job-level variables\n",
    "\n",
    "2. **Job Level**\n",
    "   - Defined within a job\n",
    "   - Available only to that job\n",
    "   - Can override workflow-level variables\n",
    "\n",
    "3. **Step Level**\n",
    "   - Defined within a step\n",
    "   - Available only to that step\n",
    "   - Can override job-level variables"
   ]
  },
  {
   "cell_type": "markdown",
   "metadata": {},
   "source": [
    "## Basic Environment Variables\n",
    "\n",
    "Here's how to set up basic environment variables:"
   ]
  },
  {
   "cell_type": "code",
   "execution_count": null,
   "metadata": {},
   "outputs": [],
   "source": [
    "basic_env = \"\"\"\n",
    "name: Environment Variables Example\n",
    "\n",
    "on: [push]\n",
    "\n",
    "env:\n",
    "  NODE_ENV: production\n",
    "  API_URL: https://api.example.com\n",
    "\n",
    "jobs:\n",
    "  build:\n",
    "    runs-on: ubuntu-latest\n",
    "    env:\n",
    "      DATABASE_URL: postgresql://localhost:5432/mydb\n",
    "    \n",
    "    steps:\n",
    "      - uses: actions/checkout@v3\n",
    "      - name: Print Environment Variables\n",
    "        run: |\n",
    "          echo \"NODE_ENV: ${{ env.NODE_ENV }}\"\n",
    "          echo \"API_URL: ${{ env.API_URL }}\"\n",
    "          echo \"DATABASE_URL: ${{ env.DATABASE_URL }}\"\n",
    "\"\"\"\n",
    "\n",
    "print(basic_env)"
   ]
  },
  {
   "cell_type": "markdown",
   "metadata": {},
   "source": [
    "## Advanced Environment Variables\n",
    "\n",
    "Let's explore some advanced environment variable features:"
   ]
  },
  {
   "cell_type": "code",
   "execution_count": null,
   "metadata": {},
   "outputs": [],
   "source": [
    "advanced_env = \"\"\"\n",
    "name: Advanced Environment Variables\n",
    "\n",
    "on: [push]\n",
    "\n",
    "env:\n",
    "  GLOBAL_VAR: global-value\n",
    "\n",
    "jobs:\n",
    "  build:\n",
    "    runs-on: ubuntu-latest\n",
    "    environment: production\n",
    "    env:\n",
    "      JOB_VAR: job-value\n",
    "    \n",
    "    steps:\n",
    "      - uses: actions/checkout@v3\n",
    "      \n",
    "      - name: Step with Local Variables\n",
    "        env:\n",
    "          STEP_VAR: step-value\n",
    "        run: |\n",
    "          echo \"Global: ${{ env.GLOBAL_VAR }}\"\n",
    "          echo \"Job: ${{ env.JOB_VAR }}\"\n",
    "          echo \"Step: ${{ env.STEP_VAR }}\"\n",
    "          \n",
    "      - name: Use GitHub Context\n",
    "        run: |\n",
    "          echo \"Repository: ${{ github.repository }}\"\n",
    "          echo \"Actor: ${{ github.actor }}\"\n",
    "          echo \"Event: ${{ github.event_name }}\"\n",
    "\"\"\"\n",
    "\n",
    "print(advanced_env)"
   ]
  },
  {
   "cell_type": "markdown",
   "metadata": {},
   "source": [
    "## Best Practices\n",
    "\n",
    "When working with environment variables, follow these best practices:\n",
    "\n",
    "1. **Security**\n",
    "   - Use GitHub Secrets for sensitive data\n",
    "   - Never expose credentials in logs\n",
    "   - Use appropriate scoping\n",
    "\n",
    "2. **Organization**\n",
    "   - Group related variables\n",
    "   - Use descriptive names\n",
    "   - Document variable purposes\n",
    "\n",
    "3. **Maintenance**\n",
    "   - Keep variables up to date\n",
    "   - Remove unused variables\n",
    "   - Version control variable changes\n",
    "\n",
    "4. **Testing**\n",
    "   - Test variable inheritance\n",
    "   - Verify variable access\n",
    "   - Check variable overrides"
   ]
  },
  {
   "cell_type": "markdown",
   "metadata": {},
   "source": [
    "## Further Considerations\n",
    "\n",
    "As you become more familiar with environment variables, consider these advanced topics:\n",
    "\n",
    "1. **Variable Inheritance**\n",
    "   - Understand variable scope\n",
    "   - Handle variable overrides\n",
    "   - Manage variable conflicts\n",
    "\n",
    "2. **Dynamic Variables**\n",
    "   - Generate variables at runtime\n",
    "   - Use conditional variables\n",
    "   - Handle variable dependencies\n",
    "\n",
    "3. **Variable Management**\n",
    "   - Use environment files\n",
    "   - Manage multiple environments\n",
    "   - Handle variable updates\n",
    "\n",
    "4. **Debugging**\n",
    "   - Troubleshoot variable issues\n",
    "   - Debug variable scope\n",
    "   - Monitor variable usage"
   ]
  },
  {
   "cell_type": "markdown",
   "metadata": {},
   "source": [
    "## Hands-on Exercise\n",
    "\n",
    "Let's practice working with environment variables:\n",
    "\n",
    "1. **Basic Variables**\n",
    "   - Look at `.github/workflows/02-environment-variables.yml`\n",
    "   - Understand variable scoping\n",
    "   - Run the workflow\n",
    "\n",
    "2. **Add Variables**\n",
    "   - Add workflow-level variables\n",
    "   - Add job-level variables\n",
    "   - Add step-level variables\n",
    "\n",
    "3. **Use GitHub Context**\n",
    "   - Access repository information\n",
    "   - Use event context\n",
    "   - Work with actor information\n",
    "\n",
    "4. **Variable Challenges**\n",
    "   - Implement variable inheritance\n",
    "   - Handle variable conflicts\n",
    "   - Use conditional variables\n",
    "   - Work with GitHub Secrets\n",
    "\n",
    "Remember to follow security best practices when working with sensitive information!"
   ]
  }
 ],
 "metadata": {
  "kernelspec": {
   "display_name": "Python 3",
   "language": "python",
   "name": "python3"
  },
  "language_info": {
   "codemirror_mode": {
    "name": "ipython",
    "version": 3
   },
   "file_extension": ".py",
   "mimetype": "text/x-python",
   "name": "python",
   "nbconvert_exporter": "python",
   "pygments_lexer": "ipython3",
   "version": "3.8.10"
  }
 },
 "nbformat": 4,
 "nbformat_minor": 4
}