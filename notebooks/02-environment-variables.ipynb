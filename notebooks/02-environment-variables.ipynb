{
 "cells": [
  {
   "cell_type": "markdown",
   "metadata": {},
   "source": [
    "# Exercise 02: Environment Variables and Secrets\n",
    "\n",
    "In this exercise, you'll learn how to use environment variables and secrets in GitHub Actions workflows. You'll create a simple application that uses environment variables and set up a workflow that securely handles sensitive information."
   ]
  },
  {
   "cell_type": "markdown",
   "metadata": {},
   "source": [
    "## Objectives\n",
    "\n",
    "- Understand the difference between environment variables and secrets\n",
    "- Learn how to use GitHub Secrets\n",
    "- Create a workflow that uses environment variables\n",
    "- Implement secure handling of sensitive data\n",
    "- Use environment variables across different jobs"
   ]
  },
  {
   "cell_type": "markdown",
   "metadata": {},
   "source": [
    "## Understanding Environment Variables and Secrets\n",
    "\n",
    "GitHub Actions provides two main ways to handle configuration and sensitive data:\n",
    "\n",
    "1. **Environment Variables**\n",
    "   - Regular variables that can be set at different levels\n",
    "   - Visible in logs (should not contain sensitive data)\n",
    "   - Can be set at workflow, job, or step level\n",
    "\n",
    "2. **Secrets**\n",
    "   - Encrypted variables for sensitive data\n",
    "   - Never displayed in logs\n",
    "   - Available at repository, environment, or organization level\n",
    "\n",
    "3. **Contexts**\n",
    "   - Special variables that provide information about the workflow run\n",
    "   - Examples: github.event, github.workspace\n",
    "   - Accessible throughout the workflow"
   ]
  },
  {
   "cell_type": "markdown",
   "metadata": {},
   "source": [
    "## Example Workflow with Environment Variables"
   ]
  },
  {
   "cell_type": "code",
   "execution_count": null,
   "metadata": {},
   "outputs": [],
   "source": [
    "env_workflow = \"\"\"\n",
    "name: Environment Variables Example\n",
    "\n",
    "on: [push]\n",
    "\n",
    "env:\n",
    "  NODE_ENV: production\n",
    "  API_URL: https://api.example.com\n",
    "\n",
    "jobs:\n",
    "  build:\n",
    "    runs-on: ubuntu-latest\n",
    "    \n",
    "    steps:\n",
    "      - uses: actions/checkout@v3\n",
    "      \n",
    "      - name: Use environment variable\n",
    "        run: echo \"Building for ${{ env.NODE_ENV }}\"\n",
    "        \n",
    "      - name: Use secret\n",
    "        run: echo \"Using API key: ${{ secrets.API_KEY }}\"\n",
    "        env:\n",
    "          API_KEY: ${{ secrets.API_KEY }}\n",
    "\"\"\"\n",
    "\n",
    "print(env_workflow)"
   ]
  },
  {
   "cell_type": "markdown",
   "metadata": {},
   "source": [
    "## Hands-on Exercise\n",
    "\n",
    "In this exercise, you'll create an application that uses environment variables and secrets. Follow these steps:\n",
    "\n",
    "1. **Create a Configuration Application**\n",
    "   - Create a Python application that reads configuration from environment variables\n",
    "   - Add functionality to connect to a mock API using credentials\n",
    "   - Create a test file to verify the functionality\n",
    "\n",
    "2. **Set Up GitHub Secrets**\n",
    "   - Add repository secrets in GitHub\n",
    "   - Understand the different types of secrets (repository, environment, organization)\n",
    "\n",
    "3. **Create GitHub Actions Workflow**\n",
    "   - Create a workflow that uses environment variables\n",
    "   - Implement secure handling of secrets\n",
    "   - Pass environment variables between jobs\n",
    "\n",
    "4. **Test Your Workflow**\n",
    "   - Commit and push your changes\n",
    "   - Verify that secrets are properly masked in logs\n",
    "   - Check that the application works with the provided environment variables\n",
    "\n",
    "## Expected Outcome\n",
    "\n",
    "After completing this exercise, you should have:\n",
    "- An application that uses environment variables\n",
    "- A GitHub Actions workflow that securely handles secrets\n",
    "- Understanding of different types of GitHub Secrets\n",
    "- Experience with passing environment variables between jobs\n",
    "\n",
    "## Next Steps\n",
    "\n",
    "Once you've completed this exercise, move on to Exercise 03 to learn about matrix builds in GitHub Actions."
   ]
  }
 ],
 "metadata": {
  "kernelspec": {
   "display_name": "Python 3",
   "language": "python",
   "name": "python3"
  },
  "language_info": {
   "codemirror_mode": {
    "name": "ipython",
    "version": 3
   },
   "file_extension": ".py",
   "mimetype": "text/x-python",
   "name": "python",
   "nbconvert_exporter": "python",
   "pygments_lexer": "ipython3",
   "version": "3.8.10"
  }
 },
 "nbformat": 4,
 "nbformat_minor": 4
}