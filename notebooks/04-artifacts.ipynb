{
 "cells": [
  {
   "cell_type": "markdown",
   "metadata": {},
   "source": [
    "# Exercise 04: Artifacts\n",
    "\n",
    "In this exercise, you'll learn how to use artifacts in GitHub Actions to store and share files between jobs and workflows. You'll create a simple application that generates reports and stores them as artifacts."
   ]
  },
  {
   "cell_type": "markdown",
   "metadata": {},
   "source": [
    "## Objectives\n",
    "\n",
    "- Understand the concept of artifacts in GitHub Actions\n",
    "- Create a workflow that generates and stores artifacts\n",
    "- Share artifacts between jobs in a workflow\n",
    "- Download and use artifacts from previous workflow runs\n",
    "- Set up artifact retention policies"
   ]
  },
  {
   "cell_type": "markdown",
   "metadata": {},
   "source": [
    "## Understanding Artifacts\n",
    "\n",
    "Artifacts in GitHub Actions allow you to share data between jobs and workflows:\n",
    "\n",
    "1. **Artifact Storage**\n",
    "   - Files are stored in GitHub's artifact storage\n",
    "   - Accessible during and after workflow runs\n",
    "   - Subject to size and retention limits\n",
    "\n",
    "2. **Artifact Actions**\n",
    "   - `actions/upload-artifact`: Upload files as artifacts\n",
    "   - `actions/download-artifact`: Download artifacts\n",
    "   - Support for compression and patterns\n",
    "\n",
    "3. **Artifact Management**\n",
    "   - Set retention periods\n",
    "   - Handle large files\n",
    "   - Share between workflows"
   ]
  },
  {
   "cell_type": "markdown",
   "metadata": {},
   "source": [
    "## Example Artifact Workflow"
   ]
  },
  {
   "cell_type": "code",
   "execution_count": null,
   "metadata": {},
   "outputs": [],
   "source": [
    "artifact_workflow = \"\"\"\n",
    "name: Artifact Example\n",
    "\n",
    "on: [push]\n",
    "\n",
    "jobs:\n",
    "  build:\n",
    "    runs-on: ubuntu-latest\n",
    "    \n",
    "    steps:\n",
    "      - uses: actions/checkout@v3\n",
    "      \n",
    "      - name: Set up Python\n",
    "        uses: actions/setup-python@v4\n",
    "        with:\n",
    "          python-version: '3.x'\n",
    "          \n",
    "      - name: Install dependencies\n",
    "        run: |\n",
    "          python -m pip install --upgrade pip\n",
    "          pip install -r requirements.txt\n",
    "          \n",
    "      - name: Generate reports\n",
    "        run: python generate_reports.py\n",
    "        \n",
    "      - name: Upload reports\n",
    "        uses: actions/upload-artifact@v3\n",
    "        with:\n",
    "          name: reports\n",
    "          path: reports/\n",
    "          retention-days: 30\n",
    "          \n",
    "  analyze:\n",
    "    needs: build\n",
    "    runs-on: ubuntu-latest\n",
    "    \n",
    "    steps:\n",
    "      - uses: actions/checkout@v3\n",
    "      \n",
    "      - name: Download reports\n",
    "        uses: actions/download-artifact@v3\n",
    "        with:\n",
    "          name: reports\n",
    "          path: reports/\n",
    "          \n",
    "      - name: Analyze reports\n",
    "        run: python analyze_reports.py\n",
    "\"\"\"\n",
    "\n",
    "print(artifact_workflow)"
   ]
  },
  {
   "cell_type": "markdown",
   "metadata": {},
   "source": [
    "## Hands-on Exercise\n",
    "\n",
    "In this exercise, you'll create an application that generates reports and stores them as artifacts. Follow these steps:\n",
    "\n",
    "1. **Create a Report Generator Application**\n",
    "   - Create a Python application that generates reports\n",
    "   - Add functionality to create different types of reports\n",
    "   - Create a test file to verify the functionality\n",
    "\n",
    "2. **Set Up Artifact Workflow**\n",
    "   - Create a workflow file that generates reports\n",
    "   - Store the reports as artifacts\n",
    "   - Share artifacts between jobs\n",
    "   - Download artifacts from previous runs\n",
    "\n",
    "3. **Implement Artifact Retention**\n",
    "   - Set up artifact retention policies\n",
    "   - Configure artifact expiration\n",
    "   - Handle large artifacts efficiently\n",
    "\n",
    "4. **Test Your Workflow**\n",
    "   - Commit and push your changes\n",
    "   - Check the Actions tab to see the artifacts being generated\n",
    "   - Verify that artifacts can be downloaded and used\n",
    "\n",
    "## Expected Outcome\n",
    "\n",
    "After completing this exercise, you should have:\n",
    "- An application that generates reports\n",
    "- A GitHub Actions workflow that stores reports as artifacts\n",
    "- Understanding of how to share artifacts between jobs\n",
    "- Experience with artifact retention policies\n",
    "\n",
    "## Next Steps\n",
    "\n",
    "Once you've completed this exercise, move on to Exercise 05 to learn about deployment using GitHub Actions."
   ]
  }
 ],
 "metadata": {
  "kernelspec": {
   "display_name": "Python 3",
   "language": "python",
   "name": "python3"
  },
  "language_info": {
   "codemirror_mode": {
    "name": "ipython",
    "version": 3
   },
   "file_extension": ".py",
   "mimetype": "text/x-python",
   "name": "python",
   "nbconvert_exporter": "python",
   "pygments_lexer": "ipython3",
   "version": "3.8.10"
  }
 },
 "nbformat": 4,
 "nbformat_minor": 4
}